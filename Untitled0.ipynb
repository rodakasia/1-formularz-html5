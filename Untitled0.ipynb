{
  "nbformat": 4,
  "nbformat_minor": 0,
  "metadata": {
    "colab": {
      "provenance": [],
      "collapsed_sections": [],
      "authorship_tag": "ABX9TyN4iMNKgYNKrozGEDAKglDf",
      "include_colab_link": true
    },
    "kernelspec": {
      "name": "python3",
      "display_name": "Python 3"
    },
    "language_info": {
      "name": "python"
    }
  },
  "cells": [
    {
      "cell_type": "markdown",
      "metadata": {
        "id": "view-in-github",
        "colab_type": "text"
      },
      "source": [
        "<a href=\"https://colab.research.google.com/github/rodakasia/1-formularz-html5/blob/master/Untitled0.ipynb\" target=\"_parent\"><img src=\"https://colab.research.google.com/assets/colab-badge.svg\" alt=\"Open In Colab\"/></a>"
      ]
    },
    {
      "cell_type": "code",
      "execution_count": 35,
      "metadata": {
        "colab": {
          "base_uri": "https://localhost:8080/"
        },
        "id": "FKCw3i5JEez4",
        "outputId": "6a5a8984-664c-4860-e76f-ba4d677eedb9"
      },
      "outputs": [
        {
          "output_type": "stream",
          "name": "stdout",
          "text": [
            "[8, 10, 4, 4, 3, 8, 10, 8, 5, 2, 9, 2, 5, 7, 3, 9, 6, 1, 5, 10]\n",
            " 1 - 1\n",
            " 2 - 2\n",
            " 3 - 2\n",
            " 4 - 2\n",
            " 5 - 3\n",
            " 6 - 1\n",
            " 7 - 1\n",
            " 8 - 3\n",
            " 9 - 2\n",
            "10 - 3\n"
          ]
        }
      ],
      "source": [
        "import random\n",
        "random.randint(1,10)\n",
        "\n",
        "liczba = 1\n",
        "liczba_rzeczywista = 2.16\n",
        "\n",
        "\"\"\"a = 5\n",
        "b = 2\n",
        "print(a,b)\"\"\"\n",
        "\n",
        "\"\"\"a = int(input(\"Podaj a\"))\n",
        "b = int(input(\"Podaj b\"))\n",
        "print(a,b)\"\"\"\n",
        "\n",
        "'''l = [13, 3, 6, 23, 1, 5]\n",
        "sum(l)\n",
        "print (sum(l))\n",
        "min(l)\n",
        "print(min(l))\n",
        "print(max(l))'''\n",
        "\n",
        "'''def suma(a,b):\n",
        "  wynik = a+b\n",
        "  return wynik\n",
        "\n",
        "print(suma(5,4))\n",
        "print(suma(23,77))'''\n",
        "\n",
        "from random import randint\n",
        "\n",
        "lista = [randint(1,10) for _ in range(20)]\n",
        "licznik=[0]*10\n",
        "\n",
        "for el in lista:\n",
        "  licznik[el-1] += 1\n",
        "\n",
        "print(lista)\n",
        "\n",
        "for i in range(len(licznik)):\n",
        "    print(f\"{i+1:2} - {licznik[i]}\")\n",
        "\n"
      ]
    },
    {
      "cell_type": "markdown",
      "source": [],
      "metadata": {
        "id": "Devm4szxVlfv"
      }
    },
    {
      "cell_type": "markdown",
      "source": [],
      "metadata": {
        "id": "86CMXAASVmI4"
      }
    },
    {
      "cell_type": "code",
      "source": [],
      "metadata": {
        "id": "X0JD0cRsVm6r"
      },
      "execution_count": null,
      "outputs": []
    },
    {
      "cell_type": "code",
      "source": [],
      "metadata": {
        "id": "GdGrDfn2Vnmm"
      },
      "execution_count": null,
      "outputs": []
    },
    {
      "cell_type": "code",
      "source": [],
      "metadata": {
        "id": "71pJJgeTYJYQ"
      },
      "execution_count": null,
      "outputs": []
    },
    {
      "cell_type": "code",
      "source": [],
      "metadata": {
        "id": "Fv-FnymkYJ4V"
      },
      "execution_count": null,
      "outputs": []
    },
    {
      "cell_type": "code",
      "source": [],
      "metadata": {
        "id": "EjkRA_EIYJ5j"
      },
      "execution_count": null,
      "outputs": []
    },
    {
      "cell_type": "code",
      "source": [],
      "metadata": {
        "id": "xV9lTDX6YKes"
      },
      "execution_count": null,
      "outputs": []
    },
    {
      "cell_type": "code",
      "source": [],
      "metadata": {
        "id": "QyPuVqpSYKf4"
      },
      "execution_count": null,
      "outputs": []
    },
    {
      "cell_type": "code",
      "source": [],
      "metadata": {
        "id": "d-iF9S-8YKzN"
      },
      "execution_count": null,
      "outputs": []
    },
    {
      "cell_type": "code",
      "source": [],
      "metadata": {
        "id": "82uuhOvgYK0V"
      },
      "execution_count": null,
      "outputs": []
    },
    {
      "cell_type": "code",
      "source": [],
      "metadata": {
        "id": "miSVTvy5VhXx"
      },
      "execution_count": null,
      "outputs": []
    },
    {
      "cell_type": "code",
      "source": [],
      "metadata": {
        "id": "PktWVQSRViNC"
      },
      "execution_count": null,
      "outputs": []
    },
    {
      "cell_type": "markdown",
      "source": [],
      "metadata": {
        "id": "jA-_yMPRCLx4"
      }
    },
    {
      "cell_type": "code",
      "source": [],
      "metadata": {
        "id": "7wDin2HwCMos"
      },
      "execution_count": 19,
      "outputs": []
    }
  ]
}